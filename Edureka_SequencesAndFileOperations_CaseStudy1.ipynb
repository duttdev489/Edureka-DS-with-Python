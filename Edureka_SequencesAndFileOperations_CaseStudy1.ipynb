{
  "nbformat": 4,
  "nbformat_minor": 0,
  "metadata": {
    "colab": {
      "name": "Edureka_SequencesAndFileOperations_CaseStudy1.ipynb",
      "provenance": [],
      "collapsed_sections": [],
      "authorship_tag": "ABX9TyP4cqX60PzzUNWTklYwYSKD",
      "include_colab_link": true
    },
    "kernelspec": {
      "name": "python3",
      "display_name": "Python 3"
    },
    "language_info": {
      "name": "python"
    }
  },
  "cells": [
    {
      "cell_type": "markdown",
      "metadata": {
        "id": "view-in-github",
        "colab_type": "text"
      },
      "source": [
        "<a href=\"https://colab.research.google.com/github/duttdev489/Edureka-DS-with-Python/blob/main/Edureka_SequencesAndFileOperations_CaseStudy1.ipynb\" target=\"_parent\"><img src=\"https://colab.research.google.com/assets/colab-badge.svg\" alt=\"Open In Colab\"/></a>"
      ]
    },
    {
      "cell_type": "markdown",
      "source": [
        "**1.Write a program which will find factors of given number and find whether the factor is even or odd.**\n",
        "\n",
        "Hint: Use Loop with if-else statements**"
      ],
      "metadata": {
        "id": "CxwsFcQUaCB9"
      }
    },
    {
      "cell_type": "code",
      "source": [
        "num= int(input(\"Enter a number \"))\n",
        "factOdd =[]\n",
        "factEven =[]\n",
        "for i in range(1,num+1):\n",
        "  if num%i ==0 and (i%2 ==0):\n",
        "    # print( \"Even Factor \", i)\n",
        "    factEven.append(i)\n",
        "  elif  num%i ==0 and i%2 != 0:\n",
        "    # print( \"Odd Factor \", i)\n",
        "    factOdd.append(i)\n",
        "print (\"Even Factor\")\n",
        "for fact in factEven:\n",
        "  print(fact,end =\", \")\n",
        "print (\"\\nOdd Factor\")\n",
        "for fact in factOdd:\n",
        "  print(fact,end =\", \")\n",
        "   \n",
        "\n",
        "  \n"
      ],
      "metadata": {
        "colab": {
          "base_uri": "https://localhost:8080/"
        },
        "id": "hViZPjdKaBkw",
        "outputId": "1080a30f-26d6-40d2-a7cc-0f9fbc374fdb"
      },
      "execution_count": null,
      "outputs": [
        {
          "output_type": "stream",
          "name": "stdout",
          "text": [
            "Enter a number 156\n",
            "Even Factor\n",
            "2, 4, 6, 12, 26, 52, 78, 156, \n",
            "Odd Factor\n",
            "1, 3, 13, 39, "
          ]
        }
      ]
    },
    {
      "cell_type": "markdown",
      "source": [
        "**2.Write a code which accepts a sequence of words as input and prints the words in a sequence after sorting them alphabetically.**\n",
        "\n",
        "Hint: In case of input data being supplied to the question, it should be assumed to be a console input.\n"
      ],
      "metadata": {
        "id": "HceD49UDdFfS"
      }
    },
    {
      "cell_type": "code",
      "source": [
        "strWord = \"Hi this is my first string\"\n",
        "#sort them in order\n",
        "sortStr = sorted(strWord.split())\n",
        "print( \"Sorted Order\")\n",
        "for word in sorted(strWord.split()):\n",
        "  print(word, end=\" \")"
      ],
      "metadata": {
        "colab": {
          "base_uri": "https://localhost:8080/"
        },
        "id": "zxxIgIMEdXc_",
        "outputId": "a5ad62be-2a0b-4af5-86e0-b864a128742e"
      },
      "execution_count": null,
      "outputs": [
        {
          "output_type": "stream",
          "name": "stdout",
          "text": [
            "Sorted Order\n",
            "Hi first is my string this "
          ]
        }
      ]
    },
    {
      "cell_type": "markdown",
      "source": [
        "**3.Write a program, whichwill find all the numbers between 1000 and 3000 (both included) such that each digit of a number is an even number. The numbers obtained should be printed in a comma separated sequence on a single line.**\n",
        "\n",
        "Hint: In case of input data being supplied to the question, it should be assumed to be a console input.Divide each digit with 2 and verify is it even or not."
      ],
      "metadata": {
        "id": "5xGudVJ6eP-U"
      }
    },
    {
      "cell_type": "code",
      "source": [
        "digit = int(input(\"Enter a number \"))\n",
        "if digit >=1000 and digit <=3000:\n",
        "  for i in range (digit,3001,2): #loop from input number to end\n",
        "    #Even Number\n",
        "    if i % 2 ==0 : #check if number is even number\n",
        "      number=i\n",
        "      counter =  int(2 * len(str(number))) \n",
        "      check=0\n",
        "      # logic to check whether each digit is even or not\n",
        "      while number !=0:\n",
        "        rem = number% 10  #remainder\n",
        "        number =number //10 #new number\n",
        "        if rem %2 ==0:   # check digit is even or not     \n",
        "          check += 2   #increase counter \n",
        "      if check ==counter :\n",
        "        print (i,end=\",\")\n",
        "        "
      ],
      "metadata": {
        "colab": {
          "base_uri": "https://localhost:8080/"
        },
        "id": "-9Mlr0ZPebhj",
        "outputId": "f84fa7a9-07c0-4824-c393-2a4df262528f"
      },
      "execution_count": null,
      "outputs": [
        {
          "output_type": "stream",
          "name": "stdout",
          "text": [
            "Enter a number 2300\n",
            "2400,2402,2404,2406,2408,2420,2422,2424,2426,2428,2440,2442,2444,2446,2448,2460,2462,2464,2466,2468,2480,2482,2484,2486,2488,2600,2602,2604,2606,2608,2620,2622,2624,2626,2628,2640,2642,2644,2646,2648,2660,2662,2664,2666,2668,2680,2682,2684,2686,2688,2800,2802,2804,2806,2808,2820,2822,2824,2826,2828,2840,2842,2844,2846,2848,2860,2862,2864,2866,2868,2880,2882,2884,2886,2888,"
          ]
        }
      ]
    },
    {
      "cell_type": "markdown",
      "source": [
        "**4.Write a program that accepts a sentence and calculate the number of letters and digits.**\n",
        "\n",
        "Suppose if the entered string is: Python0325Then the output will be\n",
        "\n",
        "\n",
        "LETTERS: 6\n",
        "\n",
        "DIGITS:4\n",
        "\n",
        "Hint: Use built-in functions of string."
      ],
      "metadata": {
        "id": "R_mAIdBRkOgk"
      }
    },
    {
      "cell_type": "code",
      "source": [
        "strNew = input(\"Enter a stirng to check Numbers and Letters\")\n",
        "\n",
        "char=0\n",
        "num =0\n",
        "\n",
        "for i  in strNew:\n",
        "  if i.isdigit():\n",
        "    num+=1\n",
        "  else:\n",
        "    char += 1\n",
        "print(\"LETTERS \", char)\n",
        "print(\"DIGITS \" ,num)"
      ],
      "metadata": {
        "colab": {
          "base_uri": "https://localhost:8080/"
        },
        "id": "jA7wp0uBkifI",
        "outputId": "85c29baa-8f99-49db-eb5a-1fda57b43983"
      },
      "execution_count": null,
      "outputs": [
        {
          "output_type": "stream",
          "name": "stdout",
          "text": [
            "Enter a stirng to check Numbers and LettersPython0325\n",
            "LETTERS  6\n",
            "DIGITS  4\n"
          ]
        }
      ]
    },
    {
      "cell_type": "markdown",
      "source": [
        "**5.Design a code which will find the given number is Palindrome number or not.**\n",
        "\n",
        "Hint: Use built-in functions of string.\n"
      ],
      "metadata": {
        "id": "e4bggLbejiXu"
      }
    },
    {
      "cell_type": "code",
      "source": [
        "strNew = input(\"Enter a number to check whether palindrome or not\")\n",
        "\n",
        "revNumber = strNew[::-1]\n",
        "if strNew == revNumber:\n",
        "  print (\"Palindrome\")\n",
        "else:\n",
        "  print (\"Not a Palindrome\")\n",
        "\n",
        "\n",
        "\n"
      ],
      "metadata": {
        "colab": {
          "base_uri": "https://localhost:8080/"
        },
        "id": "vhcCtRIgjk13",
        "outputId": "5f5d0f08-81e1-4c42-e01f-3488a4b8c98b"
      },
      "execution_count": null,
      "outputs": [
        {
          "output_type": "stream",
          "name": "stdout",
          "text": [
            "Enter a number to check whether palindrome or not12321\n",
            "Palindrome\n"
          ]
        }
      ]
    },
    {
      "cell_type": "code",
      "source": [
        ""
      ],
      "metadata": {
        "id": "9o82idgKUpDR"
      },
      "execution_count": null,
      "outputs": []
    }
  ]
}