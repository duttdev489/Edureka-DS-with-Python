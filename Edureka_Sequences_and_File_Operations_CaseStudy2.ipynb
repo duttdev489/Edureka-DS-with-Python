{
  "nbformat": 4,
  "nbformat_minor": 0,
  "metadata": {
    "colab": {
      "name": "Edureka_Sequences and File Operations_CaseStudy2.ipynb",
      "provenance": [],
      "authorship_tag": "ABX9TyNxSHSRuSVfbfnIJmMhiIjl",
      "include_colab_link": true
    },
    "kernelspec": {
      "name": "python3",
      "display_name": "Python 3"
    },
    "language_info": {
      "name": "python"
    }
  },
  "cells": [
    {
      "cell_type": "markdown",
      "metadata": {
        "id": "view-in-github",
        "colab_type": "text"
      },
      "source": [
        "<a href=\"https://colab.research.google.com/github/duttdev489/Edureka-DS-with-Python/blob/main/Edureka_Sequences_and_File_Operations_CaseStudy2.ipynb\" target=\"_parent\"><img src=\"https://colab.research.google.com/assets/colab-badge.svg\" alt=\"Open In Colab\"/></a>"
      ]
    },
    {
      "cell_type": "markdown",
      "source": [
        "1.What is the output of the following code?\n",
        "\n",
        "nums = set([1,1,2,3,3,3,4,4])\n",
        "print(len(nums))"
      ],
      "metadata": {
        "id": "MJPzVb4kX3Bh"
      }
    },
    {
      "cell_type": "code",
      "execution_count": null,
      "metadata": {
        "colab": {
          "base_uri": "https://localhost:8080/"
        },
        "id": "zOmd1mPFXzam",
        "outputId": "afc28881-c11e-4686-bdb2-3ade1e7d14d9"
      },
      "outputs": [
        {
          "output_type": "stream",
          "name": "stdout",
          "text": [
            "4\n"
          ]
        }
      ],
      "source": [
        "nums = set([1,1,2,3,3,3,4,4])\n",
        "print(len(nums))"
      ]
    },
    {
      "cell_type": "markdown",
      "source": [
        "2. What will be the output?\n",
        "d = {\"john\":40, \"peter\":45}\n",
        "print(list(d.keys()))"
      ],
      "metadata": {
        "id": "usT2Or-4YIsQ"
      }
    },
    {
      "cell_type": "code",
      "source": [
        "d = {\"john\":40, \"peter\":45}\n",
        "print(list(d.keys()))"
      ],
      "metadata": {
        "colab": {
          "base_uri": "https://localhost:8080/"
        },
        "id": "0AQjiiKGYDoj",
        "outputId": "d51a0ede-d1fb-409c-dd57-dfb8fd84864b"
      },
      "execution_count": null,
      "outputs": [
        {
          "output_type": "stream",
          "name": "stdout",
          "text": [
            "['john', 'peter']\n"
          ]
        }
      ]
    },
    {
      "cell_type": "markdown",
      "source": [
        "3.\n",
        "A website requires a user to input username and password to register. Write a program\n",
        "to check the validity of password given by user. Following are the criteria for checking\n",
        "password:\n",
        "\n",
        "1. At least 1 letter between [a-z]\n",
        "2. At least 1 number between [0-9]\n",
        "1. At least 1 letter between [A-Z]\n",
        "3. At least 1 character from [$#@]\n",
        "4. Minimum length of transaction password: 6\n",
        "5. Maximum length of transaction password: 12"
      ],
      "metadata": {
        "id": "wDwLOzDPYPoa"
      }
    },
    {
      "cell_type": "code",
      "source": [
        "pwd =  input('''Enter valid password :\n",
        "1. At least 1 letter between [a-z]\n",
        "2. At least 1 number between [0-9]\n",
        "1. At least 1 letter between [A-Z]\n",
        "3. At least 1 character from [$#@]\n",
        "4. Minimum length of transaction password: 6\n",
        "5. Maximum length of transaction password: 12\n",
        "\n",
        "''')\n",
        "import re\n",
        "def validatePWD(pwd):\n",
        "  flag= False\n",
        "  length=False\n",
        "  specialChar=False\n",
        "  lowerCase= False\n",
        "  upperCase=False\n",
        "  digits=False\n",
        "\n",
        "  if len(pwd) >=6 and len(pwd) <=12:\n",
        "    length = True\n",
        "  else:\n",
        "    print(\"Invalid length\")\n",
        "  for  char  in pwd:\n",
        "    if  char  in ['$','#','@'] :\n",
        "      specialChar = True\n",
        "  if not(specialChar):\n",
        "    print(\"No special character\")\n",
        "\n",
        "    \n",
        "  if re.findall(\"[a-z]\",pwd) :\n",
        "    lowerCase=True\n",
        "  else:\n",
        "    print(\"No Lower Case Letter\")\n",
        "  if re.findall(\"[A-Z]\",pwd) :\n",
        "    upperCase=True\n",
        "  else:\n",
        "    print(\"No Upper Case Letter\")\n",
        "  if re.findall(\"[0-9]\",pwd) :\n",
        "    digits=True\n",
        "  else:\n",
        "    print(\"No digits\")\n",
        "  if length ==True and specialChar == True and lowerCase ==True and upperCase== True and digits ==True:\n",
        "    flag= True\n",
        "  return flag\n",
        "\n",
        "if validatePWD(pwd):\n",
        "  print(\"Valid password\")\n",
        "else:\n",
        "  print('Invalid password')\n",
        "\n",
        "\n",
        "\n",
        "\n",
        "\n"
      ],
      "metadata": {
        "colab": {
          "base_uri": "https://localhost:8080/"
        },
        "id": "FXga6njpajFc",
        "outputId": "559c1052-940e-4a21-a969-8f139aa9aa88"
      },
      "execution_count": 77,
      "outputs": [
        {
          "output_type": "stream",
          "name": "stdout",
          "text": [
            "Enter valid password :\n",
            "1. At least 1 letter between [a-z]\n",
            "2. At least 1 number between [0-9]\n",
            "1. At least 1 letter between [A-Z]\n",
            "3. At least 1 character from [$#@]\n",
            "4. Minimum length of transaction password: 6\n",
            "5. Maximum length of transaction password: 12\n",
            "\n",
            "weLcome12#\n",
            "Valid password\n"
          ]
        }
      ]
    },
    {
      "cell_type": "markdown",
      "source": [
        "4.Write a for loop that prints all elements of a list and their position in the list.\n",
        "\n",
        "a = [4,7,3,2,5,9] \n",
        "\n"
      ],
      "metadata": {
        "id": "V0elQhL8Yc1h"
      }
    },
    {
      "cell_type": "code",
      "source": [
        "a = [4,7,3,2,5,9]\n",
        "for ind,val in enumerate(a):\n",
        "  print(ind,val)"
      ],
      "metadata": {
        "colab": {
          "base_uri": "https://localhost:8080/"
        },
        "id": "o6QOjvefYNMV",
        "outputId": "870c930b-5dea-423f-ff36-b875fe1bf16f"
      },
      "execution_count": null,
      "outputs": [
        {
          "output_type": "stream",
          "name": "stdout",
          "text": [
            "0 4\n",
            "1 7\n",
            "2 3\n",
            "3 2\n",
            "4 5\n",
            "5 9\n"
          ]
        }
      ]
    },
    {
      "cell_type": "markdown",
      "source": [
        "5.Please write a program which accepts a string from console and print the\n",
        "characters that have even indexes \n",
        "\n",
        "Example: If the following string is given as input to the program:\n",
        " H1e2l3l4o5w6o7r8l9d\n",
        " \n",
        " Then, the output of the program should be:\n",
        " Helloworld"
      ],
      "metadata": {
        "id": "e7Eh_HE-Y1vT"
      }
    },
    {
      "cell_type": "code",
      "source": [
        "strNew= input(\"Enetr a string \")\n",
        "\n",
        "for i in range(0, len(strNew)):\n",
        "  if i%2 ==0 :\n",
        "    print(strNew[i],end= \"\")"
      ],
      "metadata": {
        "colab": {
          "base_uri": "https://localhost:8080/"
        },
        "id": "z8g0UmqZY9Ue",
        "outputId": "d6fa9de0-3f7b-4c01-cacb-22fce0a16c10"
      },
      "execution_count": null,
      "outputs": [
        {
          "output_type": "stream",
          "name": "stdout",
          "text": [
            "Enetr a string H1e2l3l4o5w6o7r8l9d\n",
            "Helloworld"
          ]
        }
      ]
    },
    {
      "cell_type": "markdown",
      "source": [
        "6.Please write a program which accepts a string from console and print it in reverse order.\n",
        "\n",
        "Example: If the following string is given as input to the program:\n",
        " rise to vote sir\n",
        "\n",
        " Then, the output of the program should be:\n",
        " \n",
        " ris etov ot esir\n"
      ],
      "metadata": {
        "id": "cAeSpn4vZjPX"
      }
    },
    {
      "cell_type": "code",
      "source": [
        "strNew = input( \"String to Reverse\")\n",
        "\n",
        "print (strNew[::-1])\n"
      ],
      "metadata": {
        "colab": {
          "base_uri": "https://localhost:8080/"
        },
        "id": "61U3uZRDY7ac",
        "outputId": "bb1949dd-ef03-4b5e-8242-580422685ee4"
      },
      "execution_count": null,
      "outputs": [
        {
          "output_type": "stream",
          "name": "stdout",
          "text": [
            "String to Reverserise to vote sir\n",
            "ris etov ot esir\n"
          ]
        }
      ]
    },
    {
      "cell_type": "markdown",
      "source": [
        "7. Please write a program which count and print the numbers of each character in a string input by console.\n",
        "\n",
        "Example: If the following string is given as input to the program:\n",
        " abcdefgabc\n",
        "\n",
        " Then, the output of the program should be:\n",
        " \n",
        "a,2\n",
        "\n",
        "c,2\n",
        "\n",
        "b,2\n",
        "\n",
        "e,1\n",
        "\n",
        "d,1\n",
        "\n",
        "g,1\n",
        "\n",
        "f,1\n"
      ],
      "metadata": {
        "id": "9KcoDEeyZ-qB"
      }
    },
    {
      "cell_type": "code",
      "source": [
        "strNew =input(\"String \")\n",
        "strSet = { i  for i in strNew}\n",
        "for i  in strSet:\n",
        "  print(f'{i},{strNew.count(i)}')"
      ],
      "metadata": {
        "colab": {
          "base_uri": "https://localhost:8080/"
        },
        "id": "9dzUswniY7c1",
        "outputId": "e06bfdb9-a2f1-48b3-e8ff-9ef42ae9f25e"
      },
      "execution_count": null,
      "outputs": [
        {
          "output_type": "stream",
          "name": "stdout",
          "text": [
            "String abcdefgabc\n",
            "b,2\n",
            "c,2\n",
            "a,2\n",
            "f,1\n",
            "e,1\n",
            "d,1\n",
            "g,1\n"
          ]
        }
      ]
    },
    {
      "cell_type": "markdown",
      "source": [
        "8. With two given lists [1,3,6,78,35,55] and [12,24,35,24,88,120,155], write a\n",
        "program to make a list whose elements are intersection of the above given lists."
      ],
      "metadata": {
        "id": "SKTnCmsYcypp"
      }
    },
    {
      "cell_type": "code",
      "source": [
        "l1 =  list (input( \"List1 \").split(',')) #list(input( \"List1\").split())\n",
        "#\\l1 =[l1]\n",
        "l2 =  list (input( \"List1 \").split(',')) #list(input( \"List2\").split())\n",
        "#l2 = [l2]\n",
        "\n",
        "print (f\"Element of {l1}\")\n",
        "print (f\"Element of {l2}\")\n",
        "\n",
        "l3 =[]\n",
        "for ele1 in l1:\n",
        "  for ele2 in l2:\n",
        "    if ele1 == ele2:\n",
        "      l3.append(ele1)\n",
        "print(f\"the intersection of L1 and L2 is {l3}\")"
      ],
      "metadata": {
        "colab": {
          "base_uri": "https://localhost:8080/"
        },
        "id": "QavsWnjCabmO",
        "outputId": "054f5476-e758-47fc-ebf9-7eda33d3b619"
      },
      "execution_count": null,
      "outputs": [
        {
          "output_type": "stream",
          "name": "stdout",
          "text": [
            "List1 1,3,6,78,35,55\n",
            "List1 12,24,35,24,88,120,155\n",
            "Element of ['1', '3', '6', '78', '35', '55']\n",
            "Element of ['12', '24', '35', '24', '88', '120', '155']\n",
            "the intersection of L1 and L2 is ['35']\n"
          ]
        }
      ]
    },
    {
      "cell_type": "markdown",
      "source": [
        "9. By using list comprehension, please write a program to print the list after removing the value 24 in \n",
        "\n",
        "[12,24,35,24,88,120,155]."
      ],
      "metadata": {
        "id": "loJ17DKHgyVO"
      }
    },
    {
      "cell_type": "code",
      "source": [
        "l1=  [12,24,35,24,88,120,155]\n",
        "\n",
        "print ( [i for i  in l1 if i!=24]) #using list comprehension\n"
      ],
      "metadata": {
        "colab": {
          "base_uri": "https://localhost:8080/"
        },
        "id": "-XpRLrBvdzx3",
        "outputId": "a6a98832-2012-4378-cb72-18b374e773e4"
      },
      "execution_count": null,
      "outputs": [
        {
          "output_type": "stream",
          "name": "stdout",
          "text": [
            "[12, 35, 88, 120, 155]\n"
          ]
        }
      ]
    },
    {
      "cell_type": "markdown",
      "source": [
        "10.By using list comprehension, please write a program to print the list after removing \n",
        "\n",
        "the 0th,4th,5th numbers in [12,24,35,70,88,120,155]."
      ],
      "metadata": {
        "id": "iNqTqwqlhRZL"
      }
    },
    {
      "cell_type": "code",
      "source": [
        "newList= [12,24,35,70,88,120,155]\n",
        "[  newList.remove(k)  for k in [ newList[i]  for  i in [0,4,5]] ]\n",
        "print(newList)"
      ],
      "metadata": {
        "id": "ex-ME4OxiKAa",
        "colab": {
          "base_uri": "https://localhost:8080/"
        },
        "outputId": "902a261f-2c7b-467b-8568-6e8330748c18"
      },
      "execution_count": 33,
      "outputs": [
        {
          "output_type": "stream",
          "name": "stdout",
          "text": [
            "[24, 35, 70, 155]\n"
          ]
        }
      ]
    },
    {
      "cell_type": "markdown",
      "source": [
        "11.By using list comprehension, please write a program to print the list after removing delete numbers which are divisible by 5 and 7 in [12,24,35,70,88,120,155]."
      ],
      "metadata": {
        "id": "_c--fQ49Y5EG"
      }
    },
    {
      "cell_type": "code",
      "source": [
        "li1= [12,24,35,70,88,120,155]\n",
        "print([ i for i in li1 if i% 7==0 and  i%5==0])"
      ],
      "metadata": {
        "colab": {
          "base_uri": "https://localhost:8080/"
        },
        "id": "gssCqRdKY-MT",
        "outputId": "cdfd4529-c583-4b66-cd42-32a3b2dcd5fa"
      },
      "execution_count": 35,
      "outputs": [
        {
          "output_type": "stream",
          "name": "stdout",
          "text": [
            "[35, 70]\n"
          ]
        }
      ]
    },
    {
      "cell_type": "markdown",
      "source": [
        "12.Write  a  program  to  compute  1/2+2/3+3/4+...+n/n+1  with  a  given  n  input  by console (n>0).\n",
        "\n",
        "Example:If the following n is given as input to the program:5\n",
        "Then, the output of the program should be:3.55\n"
      ],
      "metadata": {
        "id": "jB6Xk_urZcJj"
      }
    },
    {
      "cell_type": "code",
      "source": [
        "raw = int(input(\"Enter a number \"))\n",
        "res=0\n",
        "for i in range (1,raw+1):\n",
        "  num=i\n",
        "  den=i+1\n",
        "  res+= (num/den)\n",
        "print(round(res,2))"
      ],
      "metadata": {
        "colab": {
          "base_uri": "https://localhost:8080/"
        },
        "id": "niFPSnMnZaAI",
        "outputId": "23b243a0-7521-4114-bfba-f12351c941f3"
      },
      "execution_count": 41,
      "outputs": [
        {
          "output_type": "stream",
          "name": "stdout",
          "text": [
            "Enter a number 5\n",
            "3.55\n"
          ]
        }
      ]
    }
  ]
}